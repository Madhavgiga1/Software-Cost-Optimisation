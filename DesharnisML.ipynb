{
  "nbformat": 4,
  "nbformat_minor": 0,
  "metadata": {
    "colab": {
      "provenance": [],
      "authorship_tag": "ABX9TyPxBe9dkME68g6mDPL7chHW",
      "include_colab_link": true
    },
    "kernelspec": {
      "name": "python3",
      "display_name": "Python 3"
    },
    "language_info": {
      "name": "python"
    }
  },
  "cells": [
    {
      "cell_type": "markdown",
      "metadata": {
        "id": "view-in-github",
        "colab_type": "text"
      },
      "source": [
        "<a href=\"https://colab.research.google.com/github/Madhavgiga1/SoftwareCostPrediction-Using-Machine-Learning/blob/main/DesharnisML.ipynb\" target=\"_parent\"><img src=\"https://colab.research.google.com/assets/colab-badge.svg\" alt=\"Open In Colab\"/></a>"
      ]
    },
    {
      "cell_type": "code",
      "execution_count": 1,
      "metadata": {
        "colab": {
          "base_uri": "https://localhost:8080/"
        },
        "id": "yff8ZPq1VDPo",
        "outputId": "c438299f-c650-4d8c-941f-a5a7a66adec0"
      },
      "outputs": [
        {
          "output_type": "stream",
          "name": "stdout",
          "text": [
            "Looking in indexes: https://pypi.org/simple, https://us-python.pkg.dev/colab-wheels/public/simple/\n",
            "Collecting liac-arff\n",
            "  Downloading liac-arff-2.5.0.tar.gz (13 kB)\n",
            "  Preparing metadata (setup.py) ... \u001b[?25l\u001b[?25hdone\n",
            "Building wheels for collected packages: liac-arff\n",
            "  Building wheel for liac-arff (setup.py) ... \u001b[?25l\u001b[?25hdone\n",
            "  Created wheel for liac-arff: filename=liac_arff-2.5.0-py3-none-any.whl size=11732 sha256=094197608103a927b35ca6c9e996c20e0f9bb83a784c395bea56d538a1050bae\n",
            "  Stored in directory: /root/.cache/pip/wheels/08/82/8b/5c514221984e88c059b94e36a71d4722e590acaae04deab22e\n",
            "Successfully built liac-arff\n",
            "Installing collected packages: liac-arff\n",
            "Successfully installed liac-arff-2.5.0\n"
          ]
        }
      ],
      "source": [
        "pip install liac-arff\n"
      ]
    },
    {
      "cell_type": "code",
      "source": [
        "import arff, numpy as np\n",
        "import pandas as pd\n",
        "from scipy.io.arff import loadarff\n",
        "import urllib.request\n",
        "from io import StringIO, BytesIO\n",
        "import matplotlib.pyplot as plt\n",
        "from sklearn.ensemble import RandomForestRegressor\n",
        "from sklearn.tree import DecisionTreeRegressor\n",
        "from sklearn.model_selection import train_test_split\n",
        "from sklearn import preprocessing\n",
        "from sklearn.model_selection import KFold,cross_val_score\n",
        "from sklearn.model_selection import GridSearchCV,RandomizedSearchCV"
      ],
      "metadata": {
        "id": "OUfvxLufVGVT"
      },
      "execution_count": 2,
      "outputs": []
    },
    {
      "cell_type": "code",
      "source": [
        "df_desharnais = pd.read_csv('02.desharnais.csv',  header=0)\n",
        "df_desharnais.head()"
      ],
      "metadata": {
        "colab": {
          "base_uri": "https://localhost:8080/",
          "height": 206
        },
        "id": "8n8rIApQVGgI",
        "outputId": "71f0a9d0-d31b-459b-8409-3acaaf511dca"
      },
      "execution_count": 3,
      "outputs": [
        {
          "output_type": "execute_result",
          "data": {
            "text/plain": [
              "   id  Project  TeamExp  ManagerExp  YearEnd  Length  Effort  Transactions  \\\n",
              "0   1        1        1           4       85      12    5152           253   \n",
              "1   2        2        0           0       86       4    5635           197   \n",
              "2   3        3        4           4       85       1     805            40   \n",
              "3   4        4        0           0       86       5    3829           200   \n",
              "4   5        5        0           0       86       4    2149           140   \n",
              "\n",
              "   Entities  PointsNonAdjust  Adjustment  PointsAjust  Language  \n",
              "0        52              305          34          302         1  \n",
              "1       124              321          33          315         1  \n",
              "2        60              100          18           83         1  \n",
              "3       119              319          30          303         1  \n",
              "4        94              234          24          208         1  "
            ],
            "text/html": [
              "\n",
              "  <div id=\"df-bfa24e2d-c915-43c6-a085-4764f71831e2\">\n",
              "    <div class=\"colab-df-container\">\n",
              "      <div>\n",
              "<style scoped>\n",
              "    .dataframe tbody tr th:only-of-type {\n",
              "        vertical-align: middle;\n",
              "    }\n",
              "\n",
              "    .dataframe tbody tr th {\n",
              "        vertical-align: top;\n",
              "    }\n",
              "\n",
              "    .dataframe thead th {\n",
              "        text-align: right;\n",
              "    }\n",
              "</style>\n",
              "<table border=\"1\" class=\"dataframe\">\n",
              "  <thead>\n",
              "    <tr style=\"text-align: right;\">\n",
              "      <th></th>\n",
              "      <th>id</th>\n",
              "      <th>Project</th>\n",
              "      <th>TeamExp</th>\n",
              "      <th>ManagerExp</th>\n",
              "      <th>YearEnd</th>\n",
              "      <th>Length</th>\n",
              "      <th>Effort</th>\n",
              "      <th>Transactions</th>\n",
              "      <th>Entities</th>\n",
              "      <th>PointsNonAdjust</th>\n",
              "      <th>Adjustment</th>\n",
              "      <th>PointsAjust</th>\n",
              "      <th>Language</th>\n",
              "    </tr>\n",
              "  </thead>\n",
              "  <tbody>\n",
              "    <tr>\n",
              "      <th>0</th>\n",
              "      <td>1</td>\n",
              "      <td>1</td>\n",
              "      <td>1</td>\n",
              "      <td>4</td>\n",
              "      <td>85</td>\n",
              "      <td>12</td>\n",
              "      <td>5152</td>\n",
              "      <td>253</td>\n",
              "      <td>52</td>\n",
              "      <td>305</td>\n",
              "      <td>34</td>\n",
              "      <td>302</td>\n",
              "      <td>1</td>\n",
              "    </tr>\n",
              "    <tr>\n",
              "      <th>1</th>\n",
              "      <td>2</td>\n",
              "      <td>2</td>\n",
              "      <td>0</td>\n",
              "      <td>0</td>\n",
              "      <td>86</td>\n",
              "      <td>4</td>\n",
              "      <td>5635</td>\n",
              "      <td>197</td>\n",
              "      <td>124</td>\n",
              "      <td>321</td>\n",
              "      <td>33</td>\n",
              "      <td>315</td>\n",
              "      <td>1</td>\n",
              "    </tr>\n",
              "    <tr>\n",
              "      <th>2</th>\n",
              "      <td>3</td>\n",
              "      <td>3</td>\n",
              "      <td>4</td>\n",
              "      <td>4</td>\n",
              "      <td>85</td>\n",
              "      <td>1</td>\n",
              "      <td>805</td>\n",
              "      <td>40</td>\n",
              "      <td>60</td>\n",
              "      <td>100</td>\n",
              "      <td>18</td>\n",
              "      <td>83</td>\n",
              "      <td>1</td>\n",
              "    </tr>\n",
              "    <tr>\n",
              "      <th>3</th>\n",
              "      <td>4</td>\n",
              "      <td>4</td>\n",
              "      <td>0</td>\n",
              "      <td>0</td>\n",
              "      <td>86</td>\n",
              "      <td>5</td>\n",
              "      <td>3829</td>\n",
              "      <td>200</td>\n",
              "      <td>119</td>\n",
              "      <td>319</td>\n",
              "      <td>30</td>\n",
              "      <td>303</td>\n",
              "      <td>1</td>\n",
              "    </tr>\n",
              "    <tr>\n",
              "      <th>4</th>\n",
              "      <td>5</td>\n",
              "      <td>5</td>\n",
              "      <td>0</td>\n",
              "      <td>0</td>\n",
              "      <td>86</td>\n",
              "      <td>4</td>\n",
              "      <td>2149</td>\n",
              "      <td>140</td>\n",
              "      <td>94</td>\n",
              "      <td>234</td>\n",
              "      <td>24</td>\n",
              "      <td>208</td>\n",
              "      <td>1</td>\n",
              "    </tr>\n",
              "  </tbody>\n",
              "</table>\n",
              "</div>\n",
              "      <button class=\"colab-df-convert\" onclick=\"convertToInteractive('df-bfa24e2d-c915-43c6-a085-4764f71831e2')\"\n",
              "              title=\"Convert this dataframe to an interactive table.\"\n",
              "              style=\"display:none;\">\n",
              "        \n",
              "  <svg xmlns=\"http://www.w3.org/2000/svg\" height=\"24px\"viewBox=\"0 0 24 24\"\n",
              "       width=\"24px\">\n",
              "    <path d=\"M0 0h24v24H0V0z\" fill=\"none\"/>\n",
              "    <path d=\"M18.56 5.44l.94 2.06.94-2.06 2.06-.94-2.06-.94-.94-2.06-.94 2.06-2.06.94zm-11 1L8.5 8.5l.94-2.06 2.06-.94-2.06-.94L8.5 2.5l-.94 2.06-2.06.94zm10 10l.94 2.06.94-2.06 2.06-.94-2.06-.94-.94-2.06-.94 2.06-2.06.94z\"/><path d=\"M17.41 7.96l-1.37-1.37c-.4-.4-.92-.59-1.43-.59-.52 0-1.04.2-1.43.59L10.3 9.45l-7.72 7.72c-.78.78-.78 2.05 0 2.83L4 21.41c.39.39.9.59 1.41.59.51 0 1.02-.2 1.41-.59l7.78-7.78 2.81-2.81c.8-.78.8-2.07 0-2.86zM5.41 20L4 18.59l7.72-7.72 1.47 1.35L5.41 20z\"/>\n",
              "  </svg>\n",
              "      </button>\n",
              "      \n",
              "  <style>\n",
              "    .colab-df-container {\n",
              "      display:flex;\n",
              "      flex-wrap:wrap;\n",
              "      gap: 12px;\n",
              "    }\n",
              "\n",
              "    .colab-df-convert {\n",
              "      background-color: #E8F0FE;\n",
              "      border: none;\n",
              "      border-radius: 50%;\n",
              "      cursor: pointer;\n",
              "      display: none;\n",
              "      fill: #1967D2;\n",
              "      height: 32px;\n",
              "      padding: 0 0 0 0;\n",
              "      width: 32px;\n",
              "    }\n",
              "\n",
              "    .colab-df-convert:hover {\n",
              "      background-color: #E2EBFA;\n",
              "      box-shadow: 0px 1px 2px rgba(60, 64, 67, 0.3), 0px 1px 3px 1px rgba(60, 64, 67, 0.15);\n",
              "      fill: #174EA6;\n",
              "    }\n",
              "\n",
              "    [theme=dark] .colab-df-convert {\n",
              "      background-color: #3B4455;\n",
              "      fill: #D2E3FC;\n",
              "    }\n",
              "\n",
              "    [theme=dark] .colab-df-convert:hover {\n",
              "      background-color: #434B5C;\n",
              "      box-shadow: 0px 1px 3px 1px rgba(0, 0, 0, 0.15);\n",
              "      filter: drop-shadow(0px 1px 2px rgba(0, 0, 0, 0.3));\n",
              "      fill: #FFFFFF;\n",
              "    }\n",
              "  </style>\n",
              "\n",
              "      <script>\n",
              "        const buttonEl =\n",
              "          document.querySelector('#df-bfa24e2d-c915-43c6-a085-4764f71831e2 button.colab-df-convert');\n",
              "        buttonEl.style.display =\n",
              "          google.colab.kernel.accessAllowed ? 'block' : 'none';\n",
              "\n",
              "        async function convertToInteractive(key) {\n",
              "          const element = document.querySelector('#df-bfa24e2d-c915-43c6-a085-4764f71831e2');\n",
              "          const dataTable =\n",
              "            await google.colab.kernel.invokeFunction('convertToInteractive',\n",
              "                                                     [key], {});\n",
              "          if (!dataTable) return;\n",
              "\n",
              "          const docLinkHtml = 'Like what you see? Visit the ' +\n",
              "            '<a target=\"_blank\" href=https://colab.research.google.com/notebooks/data_table.ipynb>data table notebook</a>'\n",
              "            + ' to learn more about interactive tables.';\n",
              "          element.innerHTML = '';\n",
              "          dataTable['output_type'] = 'display_data';\n",
              "          await google.colab.output.renderOutput(dataTable, element);\n",
              "          const docLink = document.createElement('div');\n",
              "          docLink.innerHTML = docLinkHtml;\n",
              "          element.appendChild(docLink);\n",
              "        }\n",
              "      </script>\n",
              "    </div>\n",
              "  </div>\n",
              "  "
            ]
          },
          "metadata": {},
          "execution_count": 3
        }
      ]
    },
    {
      "cell_type": "code",
      "source": [
        "features = [ 'TeamExp', 'ManagerExp', 'Length', 'Transactions', 'Entities',\n",
        "        'PointsNonAdjust', 'Adjustment', 'PointsAjust']\n",
        "\n",
        "max_corr_features = ['Length', 'Transactions', 'Entities','PointsNonAdjust','PointsAjust']\n",
        "\n",
        "X = df_desharnais[features]\n",
        "Y = df_desharnais['Effort']"
      ],
      "metadata": {
        "id": "gX_2UMYmVGmD"
      },
      "execution_count": 4,
      "outputs": []
    },
    {
      "cell_type": "code",
      "source": [
        "X_train, X_test, y_train, y_test = train_test_split(\n",
        "    X, Y, test_size=0.30, random_state=42)"
      ],
      "metadata": {
        "id": "oziabhsRVGpT"
      },
      "execution_count": 5,
      "outputs": []
    },
    {
      "cell_type": "code",
      "source": [
        "MMRE_list=[]\n",
        "MdMRE_list=[]\n",
        "Pred_list= []\n",
        "for i in np.arange(1,9):   \n",
        "    clf= RandomForestRegressor(n_estimators=500,max_features=i)\n",
        "    clf.fit(X_train, y_train)\n",
        "    Y_pred=clf.predict(X_test)\n",
        "    diff=np.absolute(y_test-Y_pred)\n",
        "    MRE=diff/y_test\n",
        "    MMRE=np.mean(MRE)\n",
        "    MdMRE=np.median(MRE)\n",
        "    P=MRE[MRE<.25]\n",
        "    Pred=(P.size/MRE.size) * 100\n",
        "    MMRE_list.append(MMRE)\n",
        "    MdMRE_list.append(MdMRE)\n",
        "    Pred_list.append(Pred)"
      ],
      "metadata": {
        "id": "hD7gD7QSVGsH"
      },
      "execution_count": 6,
      "outputs": []
    },
    {
      "cell_type": "code",
      "source": [
        "MMRE_list"
      ],
      "metadata": {
        "colab": {
          "base_uri": "https://localhost:8080/"
        },
        "id": "cvqIxEFFVY_H",
        "outputId": "4fe3799d-536e-467f-b6a4-89f13e47574a"
      },
      "execution_count": 7,
      "outputs": [
        {
          "output_type": "execute_result",
          "data": {
            "text/plain": [
              "[0.8744470758691496,\n",
              " 0.8215611629082262,\n",
              " 0.8215635983703988,\n",
              " 0.8309304575466886,\n",
              " 0.8159204284003821,\n",
              " 0.8198277029830884,\n",
              " 0.7980499491137282,\n",
              " 0.8284517261875003]"
            ]
          },
          "metadata": {},
          "execution_count": 7
        }
      ]
    },
    {
      "cell_type": "code",
      "source": [
        "MdMRE_list"
      ],
      "metadata": {
        "colab": {
          "base_uri": "https://localhost:8080/"
        },
        "id": "60kDnGLFVZB4",
        "outputId": "65a6f026-49dc-4c26-b7b4-59cf6704daf2"
      },
      "execution_count": 8,
      "outputs": [
        {
          "output_type": "execute_result",
          "data": {
            "text/plain": [
              "[0.3536301942463732,\n",
              " 0.33003861003860996,\n",
              " 0.3203772691397,\n",
              " 0.30177426992896605,\n",
              " 0.3761389108129439,\n",
              " 0.3918216258879243,\n",
              " 0.34317284925019725,\n",
              " 0.39053670086819253]"
            ]
          },
          "metadata": {},
          "execution_count": 8
        }
      ]
    },
    {
      "cell_type": "code",
      "source": [
        "Pred_list\n"
      ],
      "metadata": {
        "colab": {
          "base_uri": "https://localhost:8080/"
        },
        "id": "aGpb0g4bVZEh",
        "outputId": "2037adff-c645-4749-c3b1-39b3aae925f0"
      },
      "execution_count": 9,
      "outputs": [
        {
          "output_type": "execute_result",
          "data": {
            "text/plain": [
              "[40.0, 36.0, 36.0, 32.0, 32.0, 32.0, 28.000000000000004, 36.0]"
            ]
          },
          "metadata": {},
          "execution_count": 9
        }
      ]
    },
    {
      "cell_type": "code",
      "source": [
        "import matplotlib.pyplot as plt\n",
        "import numpy as np\n",
        "\n",
        "x = np.arange(1,9)\n",
        "\n",
        "plt.plot(x, MMRE_list)\n",
        "plt.plot(x, MdMRE_list)\n",
        "\n",
        "plt.legend(['MMRE','MdMRE'], loc='upper right')\n",
        "\n",
        "plt.show()"
      ],
      "metadata": {
        "colab": {
          "base_uri": "https://localhost:8080/",
          "height": 434
        },
        "id": "Gfatuc4QVZHR",
        "outputId": "e3b1b20c-fa91-468d-b1ca-c8f274e42137"
      },
      "execution_count": 10,
      "outputs": [
        {
          "output_type": "display_data",
          "data": {
            "text/plain": [
              "<Figure size 640x480 with 1 Axes>"
            ],
            "image/png": "[encoded data removed]"
          },
          "metadata": {}
        }
      ]
    },
    {
      "cell_type": "code",
      "source": [
        "plt.plot(x, Pred_list)\n",
        "plt.legend(['Pred'], loc='upper right')\n",
        "plt.show()"
      ],
      "metadata": {
        "colab": {
          "base_uri": "https://localhost:8080/",
          "height": 430
        },
        "id": "y70634rzVZJy",
        "outputId": "6a0b67ee-cf7c-416b-ec19-048b9508a330"
      },
      "execution_count": 11,
      "outputs": [
        {
          "output_type": "display_data",
          "data": {
            "text/plain": [
              "<Figure size 640x480 with 1 Axes>"
            ],
            "image/png": "[encoded data removed]"
          },
          "metadata": {}
        }
      ]
    },
    {
      "cell_type": "markdown",
      "source": [
        "**Desharnis n_estimator=100 to 1000 and mf=5**"
      ],
      "metadata": {
        "id": "H7RQ-pLOVlqm"
      }
    },
    {
      "cell_type": "code",
      "source": [
        "MMRE_list=[]\n",
        "MdMRE_list=[]\n",
        "Pred_list= []\n",
        "for i in np.arange(100,1100,100):   \n",
        "    clf= RandomForestRegressor(n_estimators=i,max_features=5)\n",
        "    clf.fit(X_train, y_train)\n",
        "    Y_pred=clf.predict(X_test)\n",
        "    diff=np.absolute(y_test-Y_pred)\n",
        "    MRE=diff/y_test\n",
        "    MMRE=np.mean(MRE)\n",
        "    MdMRE=np.median(MRE)\n",
        "    P=MRE[MRE<.25]\n",
        "    Pred=(P.size/MRE.size) * 100\n",
        "    MMRE_list.append(MMRE)\n",
        "    MdMRE_list.append(MdMRE)\n",
        "    Pred_list.append(Pred)"
      ],
      "metadata": {
        "id": "zkk5Z96IVZMR"
      },
      "execution_count": 12,
      "outputs": []
    },
    {
      "cell_type": "code",
      "source": [
        "MMRE_list"
      ],
      "metadata": {
        "colab": {
          "base_uri": "https://localhost:8080/"
        },
        "id": "4K9B7ZLWVZOv",
        "outputId": "d15cd228-8483-4c11-9b47-48f4c1aa38bd"
      },
      "execution_count": 13,
      "outputs": [
        {
          "output_type": "execute_result",
          "data": {
            "text/plain": [
              "[0.8067696505583517,\n",
              " 0.7961010906891838,\n",
              " 0.8097531429832078,\n",
              " 0.8346594041606445,\n",
              " 0.8189631043449943,\n",
              " 0.8099443710707793,\n",
              " 0.8309615183415265,\n",
              " 0.8200409662368306,\n",
              " 0.8203956025382348,\n",
              " 0.8153204680104928]"
            ]
          },
          "metadata": {},
          "execution_count": 13
        }
      ]
    },
    {
      "cell_type": "code",
      "source": [
        "MdMRE_list\n"
      ],
      "metadata": {
        "colab": {
          "base_uri": "https://localhost:8080/"
        },
        "id": "w94K-07GVzib",
        "outputId": "2c9f55c3-f1b9-4bc8-c726-124e0cb30ae7"
      },
      "execution_count": 14,
      "outputs": [
        {
          "output_type": "execute_result",
          "data": {
            "text/plain": [
              "[0.38730860299921077,\n",
              " 0.3233851884312007,\n",
              " 0.36844251512759796,\n",
              " 0.2979591836734694,\n",
              " 0.34232202052091554,\n",
              " 0.3354380426203631,\n",
              " 0.34813507723531406,\n",
              " 0.3310112470402525,\n",
              " 0.3266692975532755,\n",
              " 0.37911128650355175]"
            ]
          },
          "metadata": {},
          "execution_count": 14
        }
      ]
    },
    {
      "cell_type": "code",
      "source": [
        "Pred_list"
      ],
      "metadata": {
        "colab": {
          "base_uri": "https://localhost:8080/"
        },
        "id": "uE7AocmsVzle",
        "outputId": "3f0aba26-e6b6-490f-a363-3db3715c9d0a"
      },
      "execution_count": 15,
      "outputs": [
        {
          "output_type": "execute_result",
          "data": {
            "text/plain": [
              "[32.0,\n",
              " 24.0,\n",
              " 28.000000000000004,\n",
              " 28.000000000000004,\n",
              " 36.0,\n",
              " 32.0,\n",
              " 28.000000000000004,\n",
              " 32.0,\n",
              " 28.000000000000004,\n",
              " 28.000000000000004]"
            ]
          },
          "metadata": {},
          "execution_count": 15
        }
      ]
    },
    {
      "cell_type": "code",
      "source": [
        "x = np.arange(100,1100,100)\n",
        "plt.plot(x, MMRE_list)\n",
        "plt.plot(x, MdMRE_list)\n",
        "\n",
        "plt.legend(['MMRE','MdMRE'], loc='upper right')\n",
        "\n",
        "plt.show()"
      ],
      "metadata": {
        "colab": {
          "base_uri": "https://localhost:8080/",
          "height": 430
        },
        "id": "CqLwndztVzrS",
        "outputId": "f8a7e4d0-430f-4bea-b6f5-25b373fbed93"
      },
      "execution_count": 16,
      "outputs": [
        {
          "output_type": "display_data",
          "data": {
            "text/plain": [
              "<Figure size 640x480 with 1 Axes>"
            ],
            "image/png": "[encoded data removed]"
          },
          "metadata": {}
        }
      ]
    },
    {
      "cell_type": "code",
      "source": [
        "plt.plot(x, Pred_list)\n",
        "plt.legend(['Pred'], loc='upper right')\n",
        "plt.show()"
      ],
      "metadata": {
        "colab": {
          "base_uri": "https://localhost:8080/",
          "height": 430
        },
        "id": "iFSOE4l5V4Ef",
        "outputId": "07e537d9-0a31-4cd2-9eca-ce13cb62f617"
      },
      "execution_count": 17,
      "outputs": [
        {
          "output_type": "display_data",
          "data": {
            "text/plain": [
              "<Figure size 640x480 with 1 Axes>"
            ],
            "image/png": "[encoded data removed]"
          },
          "metadata": {}
        }
      ]
    },
    {
      "cell_type": "code",
      "source": [
        "params_grd={\n",
        " 'max_features': [1,2,3,4,5,6,7,8],\n",
        "  'n_estimators': [200, 400, 600, 800, 1000, 1200, 1400, 1600, 1800, 2000]}"
      ],
      "metadata": {
        "id": "2M4x_iF1V-wu"
      },
      "execution_count": 18,
      "outputs": []
    },
    {
      "cell_type": "code",
      "source": [
        "clf= RandomForestRegressor()\n",
        "grd_search=GridSearchCV(estimator = clf, param_grid = params_grd, \n",
        "                          cv = 10, n_jobs = -1, verbose = 2)\n",
        "grd_search.fit(X_train, y_train)\n",
        "best_grid = grd_search.best_estimator_\n",
        "\n",
        "Y_pred=best_grid.predict(X_test)\n",
        "diff=np.absolute(y_test-Y_pred)\n",
        "MRE=diff/y_test\n",
        "MMRE=np.mean(MRE)\n",
        "MdMRE=np.median(MRE)\n",
        "P=MRE[MRE<.25]\n",
        "Pred=(P.size/MRE.size) * 100"
      ],
      "metadata": {
        "colab": {
          "base_uri": "https://localhost:8080/"
        },
        "id": "Bof96Jn0V-4h",
        "outputId": "5261cde1-4df1-4f4a-e384-901cac75d4b8"
      },
      "execution_count": 19,
      "outputs": [
        {
          "output_type": "stream",
          "name": "stdout",
          "text": [
            "Fitting 10 folds for each of 80 candidates, totalling 800 fits\n"
          ]
        }
      ]
    },
    {
      "cell_type": "code",
      "source": [
        "print(MMRE)\n",
        "print(MdMRE)\n",
        "print(Pred)"
      ],
      "metadata": {
        "colab": {
          "base_uri": "https://localhost:8080/"
        },
        "id": "Df5oT5JLV-89",
        "outputId": "2137d7ad-d0f6-487d-e5cf-4f8d11d5dd80"
      },
      "execution_count": 22,
      "outputs": [
        {
          "output_type": "stream",
          "name": "stdout",
          "text": [
            "0.882615081201815\n",
            "0.36619691119691117\n",
            "40.0\n"
          ]
        }
      ]
    },
    {
      "cell_type": "code",
      "source": [
        "grd_search.best_params_\n"
      ],
      "metadata": {
        "colab": {
          "base_uri": "https://localhost:8080/"
        },
        "id": "7g8jQzy3WKRW",
        "outputId": "e540a9ad-5151-4441-9d41-f829f22f66d4"
      },
      "execution_count": 21,
      "outputs": [
        {
          "output_type": "execute_result",
          "data": {
            "text/plain": [
              "{'max_features': 1, 'n_estimators': 200}"
            ]
          },
          "metadata": {},
          "execution_count": 21
        }
      ]
    },
    {
      "cell_type": "markdown",
      "source": [
        "**RANDOM HYPEPARAMETER GRID**"
      ],
      "metadata": {
        "id": "7u9nvMrNWMFW"
      }
    },
    {
      "cell_type": "code",
      "source": [
        "Random_grid={'bootstrap': [True, False],\n",
        " 'max_depth': [10, 20, 30, 40, 50, 60, 70, 80, 90, 100, None],\n",
        " 'max_features': [1,2,3,4,5,6,7,8],\n",
        " 'min_samples_leaf': [1, 2, 4],\n",
        " 'min_samples_split': [2, 5, 10],\n",
        " 'n_estimators': [200, 400, 600, 800, 1000, 1200, 1400, 1600, 1800, 2000]}"
      ],
      "metadata": {
        "id": "L4l3UBG4WSij"
      },
      "execution_count": 23,
      "outputs": []
    },
    {
      "cell_type": "code",
      "source": [
        "clf= RandomForestRegressor()\n",
        "random_grd_search=RandomizedSearchCV(estimator = clf, param_distributions = Random_grid, n_iter = 100, cv = 10, \n",
        "                              verbose=2, random_state=42, n_jobs = -1)\n",
        "random_grd_search.fit(X_train, y_train)\n",
        "best_grid = random_grd_search.best_estimator_\n",
        "\n",
        "Y_pred=best_grid.predict(X_test)\n",
        "diff=np.absolute(y_test-Y_pred)\n",
        "MRE=diff/y_test\n",
        "MMRE=np.mean(MRE)\n",
        "MdMRE=np.median(MRE)\n",
        "P=MRE[MRE<.25]\n",
        "Pred=(P.size/MRE.size) * 100"
      ],
      "metadata": {
        "colab": {
          "base_uri": "https://localhost:8080/"
        },
        "id": "fOrHXDSvWSpk",
        "outputId": "325b3ecf-8bc5-46c7-8a75-738d76cab257"
      },
      "execution_count": 24,
      "outputs": [
        {
          "output_type": "stream",
          "name": "stdout",
          "text": [
            "Fitting 10 folds for each of 100 candidates, totalling 1000 fits\n"
          ]
        }
      ]
    },
    {
      "cell_type": "code",
      "source": [
        "print(MMRE)\n",
        "print(MdMRE)\n",
        "print(Pred)"
      ],
      "metadata": {
        "colab": {
          "base_uri": "https://localhost:8080/"
        },
        "id": "LUKwYZNWWSsw",
        "outputId": "a346a6ea-e26a-4d6d-b82c-d9c07bb82d55"
      },
      "execution_count": 25,
      "outputs": [
        {
          "output_type": "stream",
          "name": "stdout",
          "text": [
            "0.8978225416069863\n",
            "0.3082641935831176\n",
            "40.0\n"
          ]
        }
      ]
    },
    {
      "cell_type": "code",
      "source": [
        "random_grd_search.best_params_"
      ],
      "metadata": {
        "id": "4u-V3d4iWXEe"
      },
      "execution_count": null,
      "outputs": []
    },
    {
      "cell_type": "markdown",
      "source": [
        "**Decision Tree Regresssion**"
      ],
      "metadata": {
        "id": "RjWT71ukWZMw"
      }
    },
    {
      "cell_type": "code",
      "source": [
        "clf= DecisionTreeRegressor(max_depth=30, min_samples_split=20)\n",
        "clf.fit(X_train, y_train)\n",
        "Y_pred=clf.predict(X_test)\n",
        "diff=np.absolute(y_test-Y_pred)\n",
        "MRE=diff/y_test\n",
        "MMRE=np.mean(MRE)\n",
        "MdMRE=np.median(MRE)\n",
        "P=MRE[MRE<.25]\n",
        "Pred=(P.size/MRE.size) * 100"
      ],
      "metadata": {
        "id": "rklodxYnWXKB"
      },
      "execution_count": 26,
      "outputs": []
    },
    {
      "cell_type": "code",
      "source": [
        "print(MMRE)\n",
        "print(MdMRE)\n",
        "print(Pred)"
      ],
      "metadata": {
        "colab": {
          "base_uri": "https://localhost:8080/"
        },
        "id": "rAnsneEEWgIo",
        "outputId": "1602f134-587f-492e-a8db-3e1ea50eb1bc"
      },
      "execution_count": 27,
      "outputs": [
        {
          "output_type": "stream",
          "name": "stdout",
          "text": [
            "0.877470068699311\n",
            "0.5049426020408163\n",
            "36.0\n"
          ]
        }
      ]
    }
  ]
}